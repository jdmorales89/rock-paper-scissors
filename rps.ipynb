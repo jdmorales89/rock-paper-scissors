{
 "cells": [
  {
   "cell_type": "markdown",
   "metadata": {},
   "source": [
    "# Rock - Paper - Scissors Game"
   ]
  },
  {
   "cell_type": "markdown",
   "metadata": {},
   "source": [
    "Importing the libraries"
   ]
  },
  {
   "cell_type": "code",
   "execution_count": 1,
   "metadata": {},
   "outputs": [],
   "source": [
    "import random\n",
    "from ascii_art import choice_visual_dict"
   ]
  },
  {
   "cell_type": "markdown",
   "metadata": {},
   "source": [
    "Defininf visual_ascii() function"
   ]
  },
  {
   "cell_type": "code",
   "execution_count": 2,
   "metadata": {},
   "outputs": [],
   "source": [
    "def visual_ascii(player1, player2):\n",
    "    if player1 == \"r\" and player2 == \"r\":\n",
    "        return choice_visual_dict[0]\n",
    "    if player1 == \"r\" and player2 == \"p\":\n",
    "        return choice_visual_dict[1]\n",
    "    if player1 == \"r\" and player2 == \"s\":\n",
    "        return choice_visual_dict[2]\n",
    "    if player1 == \"p\" and player2 == \"r\":\n",
    "        return choice_visual_dict[3]\n",
    "    if player1 == \"p\" and player2 == \"p\":\n",
    "        return choice_visual_dict[4]\n",
    "    if player1 == \"p\" and player2 == \"s\":\n",
    "        return choice_visual_dict[5]\n",
    "    if player1 == \"s\" and player2 == \"r\":\n",
    "        return choice_visual_dict[6]\n",
    "    if player1 == \"s\" and player2 == \"p\":\n",
    "        return choice_visual_dict[7]\n",
    "    if player1 == \"s\" and player2 == \"s\":\n",
    "        return choice_visual_dict[8]"
   ]
  },
  {
   "cell_type": "markdown",
   "metadata": {},
   "source": [
    "Defininf is_win() function"
   ]
  },
  {
   "cell_type": "code",
   "execution_count": 3,
   "metadata": {},
   "outputs": [],
   "source": [
    "def is_win(player, opponent):\n",
    "    \"\"\"Return True if player wins following this rule: r > s, s > p, p > r\n",
    "\n",
    "    Args:\n",
    "        player (str): Player's choice\n",
    "        opponent (str): Computer's choice\n",
    "\n",
    "    Returns:\n",
    "        [bool]: True if player wins over computer\n",
    "    \"\"\"\n",
    "    if (\n",
    "        (player == \"r\" and opponent == \"s\")\n",
    "        or (player == \"s\" and opponent == \"p\")\n",
    "        or (player == \"p\" and opponent == \"r\")\n",
    "    ):\n",
    "        return True"
   ]
  },
  {
   "cell_type": "markdown",
   "metadata": {},
   "source": [
    "Defining play() function"
   ]
  },
  {
   "cell_type": "code",
   "execution_count": 4,
   "metadata": {},
   "outputs": [],
   "source": [
    "def play(user):\n",
    "    \"\"\"Play Rock, Paper, Scissors game. Ask user for choice and compare it with random choice from the computer\n",
    "\n",
    "    Returns:\n",
    "        [str]: Winning phrase\n",
    "    \"\"\"\n",
    "    choices = [\"r\", \"p\", \"s\"]\n",
    "    computer = random.choice(choices)\n",
    "    print(f\"\\n{visual_ascii(computer, user)}\")\n",
    "    if user == computer:\n",
    "        return \"                     It's a tie!\\n\"\n",
    "    if is_win(user, computer):\n",
    "        return \"                     You won!\\n\"\n",
    "    else:\n",
    "        return \"                     You lost!\\n\""
   ]
  },
  {
   "cell_type": "markdown",
   "metadata": {},
   "source": [
    "# Executing the game multiple times\n",
    "Let's play Rock, Paper, Scissors! use 'r' for rock, 'p' for paper, or 's' for scissors"
   ]
  },
  {
   "cell_type": "code",
   "execution_count": 5,
   "metadata": {},
   "outputs": [
    {
     "name": "stdout",
     "output_type": "stream",
     "text": [
      "\n",
      "\n",
      "            Computer                You\n",
      "           ________          ________\n",
      "    ------'   _____)        (_____   '------\n",
      "             (______)      (______)\n",
      "             (______)      (______)\n",
      "             (_____)       (_____)\n",
      "    ------.__(____)         (____)__.------\n",
      "       \n",
      "                     It's a tie!\n",
      "\n"
     ]
    }
   ],
   "source": [
    "print(play(\"r\"))"
   ]
  },
  {
   "cell_type": "markdown",
   "metadata": {},
   "source": []
  },
  {
   "cell_type": "code",
   "execution_count": 6,
   "metadata": {},
   "outputs": [
    {
     "name": "stdout",
     "output_type": "stream",
     "text": [
      "\n",
      "\n",
      "            Computer                  You\n",
      "        ________                      ________\n",
      "    ---'   _____)_____          _____(_____   '---\n",
      "              ________)        (________\n",
      "           ____________)      (____________\n",
      "          (_____)                    (_____)\n",
      "    ---.__(____)                      (____)__.--- \n",
      "       \n",
      "                     It's a tie!\n",
      "\n"
     ]
    }
   ],
   "source": [
    "print(play(\"s\"))"
   ]
  },
  {
   "cell_type": "code",
   "execution_count": 7,
   "metadata": {},
   "outputs": [
    {
     "name": "stdout",
     "output_type": "stream",
     "text": [
      "\n",
      "\n",
      "            Computer                  You\n",
      "        ________                      ________\n",
      "    ---'   _____)_____          _____(_____   '---\n",
      "              ________)        (________\n",
      "           ____________)      (_________\n",
      "          (_____)              (_________\n",
      "    ---.__(____)                 (____________.---\n",
      "       \n",
      "                     You lost!\n",
      "\n"
     ]
    }
   ],
   "source": [
    "print(play(\"p\"))"
   ]
  }
 ],
 "metadata": {
  "interpreter": {
   "hash": "a2441785c1e1c646cfbcb23063466be94ace15e2d8b75f3e383e86dd680ff20d"
  },
  "kernelspec": {
   "display_name": "Python 3.9.5 64-bit ('0_myscripts': conda)",
   "language": "python",
   "name": "python3"
  },
  "language_info": {
   "codemirror_mode": {
    "name": "ipython",
    "version": 3
   },
   "file_extension": ".py",
   "mimetype": "text/x-python",
   "name": "python",
   "nbconvert_exporter": "python",
   "pygments_lexer": "ipython3",
   "version": "3.9.5"
  },
  "orig_nbformat": 4
 },
 "nbformat": 4,
 "nbformat_minor": 2
}
